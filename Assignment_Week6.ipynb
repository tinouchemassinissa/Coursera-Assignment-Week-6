{
 "cells": [
  {
   "cell_type": "markdown",
   "id": "9ebe19f9",
   "metadata": {},
   "source": [
    "# Data Science Tools and Ecosystem"
   ]
  },
  {
   "cell_type": "markdown",
   "id": "4ddb35d9",
   "metadata": {},
   "source": [
    "In this notebook, Data Science Tools and Ecosystem are summarized."
   ]
  },
  {
   "cell_type": "markdown",
   "id": "a0462443",
   "metadata": {},
   "source": [
    "Objectives:\n",
    "- List popular languages for Data Science.\n",
    "- commonly used libraries used by Data Scientists.\n",
    "- examples of evaluating arithmetic expressions in Python."
   ]
  },
  {
   "cell_type": "markdown",
   "id": "4e51099c",
   "metadata": {},
   "source": [
    "Some of the popular languages that Data Scientists use are:\n",
    "1. Python\n",
    "1. R\n",
    "1. Julia\n",
    "1. Weka"
   ]
  },
  {
   "cell_type": "markdown",
   "id": "d2c4fe8a",
   "metadata": {},
   "source": [
    "Some of the commonly used libraries used by Data Scientists include:\n",
    "1. Pandas\n",
    "1. Numpy\n",
    "1. Scipy\n",
    "1. Scikit-Learn"
   ]
  },
  {
   "cell_type": "markdown",
   "id": "818b3cc4",
   "metadata": {},
   "source": [
    "| Data Science Tools | \n",
    "| ---- | \n",
    "| RStudio | \n",
    "| Spyder |\n",
    "| Apache Zepplin |"
   ]
  },
  {
   "cell_type": "markdown",
   "id": "8d4be50b",
   "metadata": {},
   "source": [
    "### Below are a few examples of evaluating arithmetic expressions in Python"
   ]
  },
  {
   "cell_type": "code",
   "execution_count": 10,
   "id": "99d21965",
   "metadata": {
    "scrolled": true
   },
   "outputs": [
    {
     "data": {
      "text/plain": [
       "17"
      ]
     },
     "execution_count": 10,
     "metadata": {},
     "output_type": "execute_result"
    }
   ],
   "source": [
    "#This a simple arithmetic expression to mutiply then add integers\n",
    "(3*4)+5"
   ]
  },
  {
   "cell_type": "code",
   "execution_count": 23,
   "id": "2e37d6b4",
   "metadata": {},
   "outputs": [
    {
     "name": "stdout",
     "output_type": "stream",
     "text": [
      "In 200 Minutes there is 3.3333333333333335 Hours\n"
     ]
    }
   ],
   "source": [
    "#This will convert 200 minutes to hours by diving by 60\n",
    "m=200\n",
    "H=200/60\n",
    "print(\"In 200 Minutes there is\", H, \"Hours\" )"
   ]
  },
  {
   "cell_type": "markdown",
   "id": "49c31506",
   "metadata": {},
   "source": [
    "Author <br> Massinissa TINOUCHE"
   ]
  }
 ],
 "metadata": {
  "kernelspec": {
   "display_name": "Python 3 (ipykernel)",
   "language": "python",
   "name": "python3"
  },
  "language_info": {
   "codemirror_mode": {
    "name": "ipython",
    "version": 3
   },
   "file_extension": ".py",
   "mimetype": "text/x-python",
   "name": "python",
   "nbconvert_exporter": "python",
   "pygments_lexer": "ipython3",
   "version": "3.9.13"
  }
 },
 "nbformat": 4,
 "nbformat_minor": 5
}
